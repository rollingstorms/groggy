{
 "cells": [
  {
   "cell_type": "code",
   "execution_count": null,
   "id": "14cc24cc",
   "metadata": {},
   "outputs": [],
   "source": [
    "from gli import GraphStore, GLI, create_random_graph"
   ]
  },
  {
   "cell_type": "code",
   "execution_count": null,
   "id": "f2f436e2",
   "metadata": {},
   "outputs": [
    {
     "name": "stdout",
     "output_type": "stream",
     "text": [
      "History:\n",
      "  initial: initialize\n",
      "  d9b48f215b0cbf3a: create_random_graph\n",
      "  fc2688e2d94a45e2: add_node\n",
      "\n",
      "Current graph has 6 nodes\n"
     ]
    }
   ],
   "source": [
    "# Test with the new GraphStore name\n",
    "store = GraphStore()\n",
    "\n",
    "# Create a simple graph\n",
    "graph = create_random_graph(5, 0.4)\n",
    "store.update_graph(graph, \"create_random_graph\")\n",
    "\n",
    "# Commit this state\n",
    "store.commit(\"Initial random graph\")\n",
    "\n",
    "# Add a node\n",
    "graph = store.get_current_graph()\n",
    "graph = graph.add_node(\"new_node\", color=\"red\")\n",
    "store.update_graph(graph, \"add_node\")\n",
    "\n",
    "# Commit this state\n",
    "store.commit(\"Added a new node\")\n",
    "\n",
    "# Show history\n",
    "print(\"History:\")\n",
    "for entry in store.get_history():\n",
    "    print(f\"  {entry['hash']}: {entry['state'].operation}\")\n",
    "\n",
    "print(f\"\\nCurrent graph has {len(store.get_current_graph().nodes)} nodes\")\n",
    "print(f\"Content pool stats: {store.get_storage_stats()}\")"
   ]
  },
  {
   "cell_type": "code",
   "execution_count": null,
   "id": "22811d21",
   "metadata": {},
   "outputs": [
    {
     "data": {
      "text/plain": [
       "{'d9b48f215b0cbf3a': {'message': 'Initial random graph',\n",
       "  'timestamp': 1750862679.685036},\n",
       " 'fc2688e2d94a45e2': {'message': 'Added a new node',\n",
       "  'timestamp': 1750862679.6853209}}"
      ]
     },
     "execution_count": 3,
     "metadata": {},
     "output_type": "execute_result"
    }
   ],
   "source": [
    "store.commits"
   ]
  },
  {
   "cell_type": "code",
   "execution_count": null,
   "id": "c9960c86",
   "metadata": {},
   "outputs": [
    {
     "data": {
      "text/plain": [
       "OrderedDict([('node_0', Node(id='node_0', attributes={})),\n",
       "             ('node_1', Node(id='node_1', attributes={})),\n",
       "             ('node_2', Node(id='node_2', attributes={})),\n",
       "             ('node_3', Node(id='node_3', attributes={})),\n",
       "             ('node_4', Node(id='node_4', attributes={})),\n",
       "             ('new_node', Node(id='new_node', attributes={'color': 'red'}))])"
      ]
     },
     "execution_count": 4,
     "metadata": {},
     "output_type": "execute_result"
    }
   ],
   "source": [
    "store.get_current_graph().nodes"
   ]
  },
  {
   "cell_type": "code",
   "execution_count": null,
   "id": "c46863bc",
   "metadata": {},
   "outputs": [
    {
     "data": {
      "text/plain": [
       "{'initial': GraphState(hash='initial', parent_hash=None, operation='initialize', timestamp=1750862679.684452, nodes={}, edges={}, graph_attributes={}, delta=None),\n",
       " 'd9b48f215b0cbf3a': GraphState(hash='d9b48f215b0cbf3a', parent_hash='initial', operation='create_random_graph', timestamp=1750862679.6849952, nodes={'node_0': '1fcc9959e57c7d3e', 'node_1': '2ac655daf3db1da9', 'node_2': '14d87a1119463da8', 'node_3': '46567b629541d3d7', 'node_4': '3bb76ac318812752'}, edges={'node_0->node_2': '7fcf3a8fbefcaf5d', 'node_0->node_3': 'e0773d9e6370398d', 'node_1->node_2': '4f6188463821ac2c', 'node_3->node_4': 'b1b2935fed49cfe3'}, graph_attributes={}, delta=None),\n",
       " 'fc2688e2d94a45e2': GraphState(hash='fc2688e2d94a45e2', parent_hash='d9b48f215b0cbf3a', operation='add_node', timestamp=1750862679.685288, nodes={'node_0': '1fcc9959e57c7d3e', 'node_1': '2ac655daf3db1da9', 'node_2': '14d87a1119463da8', 'node_3': '46567b629541d3d7', 'node_4': '3bb76ac318812752', 'new_node': '658141e053860dd6'}, edges={'node_0->node_2': '7fcf3a8fbefcaf5d', 'node_0->node_3': 'e0773d9e6370398d', 'node_1->node_2': '4f6188463821ac2c', 'node_3->node_4': 'b1b2935fed49cfe3'}, graph_attributes={}, delta=None)}"
      ]
     },
     "execution_count": 5,
     "metadata": {},
     "output_type": "execute_result"
    }
   ],
   "source": [
    "store.states"
   ]
  },
  {
   "cell_type": "code",
   "execution_count": null,
   "id": "dee46572",
   "metadata": {},
   "outputs": [
    {
     "name": "stdout",
     "output_type": "stream",
     "text": [
      "Testing create_random_graph:\n",
      "Nodes before snapshot: 5\n",
      "Has pending delta: False\n",
      "Nodes after snapshot: 5\n",
      "Node list: ['node_0', 'node_1', 'node_2', 'node_3', 'node_4']\n"
     ]
    }
   ],
   "source": [
    "# Test content pool isolation\n",
    "print(\"=== CONTENT POOL ISOLATION TEST ===\")\n",
    "\n",
    "# Create two separate GraphStore instances\n",
    "store1 = GraphStore()\n",
    "store2 = GraphStore()\n",
    "\n",
    "# Each should have its own content pool\n",
    "print(f\"Store1 content pool nodes: {len(store1.content_pool.nodes)}\")\n",
    "print(f\"Store2 content pool nodes: {len(store2.content_pool.nodes)}\")\n",
    "\n",
    "# Add different graphs to each\n",
    "graph1 = store1.current_graph.add_node(\"store1_node\").snapshot()\n",
    "graph2 = store2.current_graph.add_node(\"store2_node\").snapshot()\n",
    "\n",
    "store1.update_graph(graph1, \"add_to_store1\")\n",
    "store2.update_graph(graph2, \"add_to_store2\")\n",
    "\n",
    "print(f\"After updates:\")\n",
    "print(f\"Store1 content pool nodes: {len(store1.content_pool.nodes)}\")\n",
    "print(f\"Store2 content pool nodes: {len(store2.content_pool.nodes)}\")\n",
    "print(f\"Store1 graph nodes: {list(store1.get_current_graph().nodes.keys())}\")\n",
    "print(f\"Store2 graph nodes: {list(store2.get_current_graph().nodes.keys())}\")"
   ]
  },
  {
   "cell_type": "code",
   "execution_count": null,
   "id": "085d0167",
   "metadata": {},
   "outputs": [
    {
     "name": "stdout",
     "output_type": "stream",
     "text": [
      "Creating fresh GLI instance:\n",
      "Random graph created with 3 visible nodes\n",
      "Pending delta: False\n",
      "Snapshot has 3 nodes\n",
      "GLI current graph has 3 nodes\n",
      "Node IDs: ['node_0', 'node_1', 'node_2']\n"
     ]
    }
   ],
   "source": [
    "# Test fresh GraphStore instance with proper snapshots\n",
    "print(\"Creating fresh GraphStore instance:\")\n",
    "store3 = GraphStore()\n",
    "\n",
    "# Create graph and force snapshot\n",
    "graph = create_random_graph(3, 0.5)\n",
    "print(f\"Random graph created with {len(graph.nodes)} visible nodes\")\n",
    "print(f\"Pending delta: {graph._pending_delta is not None}\")\n",
    "\n",
    "# Force snapshot before updating GraphStore\n",
    "snapshot_graph = graph.snapshot()\n",
    "print(f\"Snapshot has {len(snapshot_graph.nodes)} nodes\")\n",
    "\n",
    "store3.update_graph(snapshot_graph, \"create_random_graph\")\n",
    "store3.commit(\"Initial random graph\")\n",
    "\n",
    "print(f\"GraphStore current graph has {len(store3.get_current_graph().nodes)} nodes\")\n",
    "print(f\"Node IDs: {list(store3.get_current_graph().nodes.keys())}\")"
   ]
  },
  {
   "cell_type": "code",
   "execution_count": null,
   "id": "5a6a64c5",
   "metadata": {},
   "outputs": [
    {
     "name": "stdout",
     "output_type": "stream",
     "text": [
      "Testing node addition:\n",
      "Before adding: 3 nodes\n",
      "After adding (before snapshot): 3 visible nodes\n",
      "Has pending delta: True\n",
      "After snapshot: 4 nodes\n",
      "GLI after update: 4 nodes\n",
      "All nodes: ['node_0', 'node_1', 'node_2', 'test_node']\n"
     ]
    }
   ],
   "source": [
    "# Test the issue with node addition\n",
    "print(\"Testing node addition:\")\n",
    "current = store3.get_current_graph()\n",
    "print(f\"Before adding: {len(current.nodes)} nodes\")\n",
    "\n",
    "# Add a node\n",
    "modified = current.add_node(\"test_node\", color=\"blue\")\n",
    "print(f\"After adding (before snapshot): {len(modified.nodes)} visible nodes\")\n",
    "print(f\"Has pending delta: {modified._pending_delta is not None}\")\n",
    "\n",
    "# Apply snapshot\n",
    "final = modified.snapshot()\n",
    "print(f\"After snapshot: {len(final.nodes)} nodes\")\n",
    "\n",
    "# Update GraphStore\n",
    "store3.update_graph(final, \"add_test_node\")\n",
    "print(f\"GraphStore after update: {len(store3.get_current_graph().nodes)} nodes\")\n",
    "print(f\"All nodes: {list(store3.get_current_graph().nodes.keys())}\")"
   ]
  },
  {
   "cell_type": "code",
   "execution_count": null,
   "id": "71c9ae95",
   "metadata": {},
   "outputs": [
    {
     "name": "stdout",
     "output_type": "stream",
     "text": [
      "=== COMPLETE DEBUGGING TEST ===\n",
      "\n",
      "1. Creating fresh GLI...\n",
      "Initial state: initial\n",
      "Initial nodes: 0\n",
      "\n",
      "2. Creating random graph manually...\n",
      "Empty graph nodes: 0\n",
      "After adding manual_0: visible=0, pending=True\n",
      "After adding manual_1: visible=0, pending=True\n",
      "After adding manual_2: visible=0, pending=True\n",
      "Manual snapshot nodes: 3\n",
      "Manual node list: ['manual_0', 'manual_1', 'manual_2']\n",
      "\n",
      "3. Updating GLI with manual graph...\n",
      "New hash: a8576719676a96fc\n",
      "GLI nodes after update: 3\n",
      "GLI node list: ['manual_0', 'manual_1', 'manual_2']\n",
      "\n",
      "4. Checking states...\n",
      "State initial: root=True, nodes=0, delta=False\n",
      "State a8576719676a96fc: root=False, nodes=3, delta=False\n",
      "  Node hashes: ['manual_0', 'manual_1', 'manual_2']\n"
     ]
    }
   ],
   "source": [
    "# Test backward compatibility\n",
    "print(\"=== BACKWARD COMPATIBILITY TEST ===\")\n",
    "\n",
    "# GLI should still work as an alias\n",
    "old_gli = GLI()\n",
    "print(f\"GLI alias works: {type(old_gli).__name__}\")\n",
    "\n",
    "# Should have same functionality\n",
    "graph = create_random_graph(2, 0.5)\n",
    "old_gli.update_graph(graph, \"test_alias\")\n",
    "print(f\"GLI alias graph nodes: {len(old_gli.get_current_graph().nodes)}\")"
   ]
  },
  {
   "cell_type": "code",
   "execution_count": null,
   "id": "b99468cf",
   "metadata": {},
   "outputs": [
    {
     "name": "stdout",
     "output_type": "stream",
     "text": [
      "=== CONTENT POOL DEBUG ===\n",
      "Content pool has 10 nodes\n",
      "Content pool has 4 edges\n",
      "\n",
      "1. Testing simple graph creation...\n",
      "Simple graph nodes: 1\n",
      "After update, GLI hash: 9162ea9f3196876d\n",
      "State is root: False\n",
      "State has 1 node hashes\n",
      "  Node test -> hash 5a50f1eeafb8f548\n",
      "    Pool lookup: Node(id='test', attributes={'value': 123})\n",
      "\n",
      "2. Manual reconstruction test...\n",
      "Reconstructed graph has 1 nodes\n"
     ]
    }
   ],
   "source": [
    "# Test the final working version\n",
    "print(\"=== FINAL WORKING TEST ===\")\n",
    "\n",
    "# Fresh GraphStore instance\n",
    "store_final = GraphStore()\n",
    "\n",
    "# Test 1: Simple graph\n",
    "simple = store_final.current_graph.add_node(\"test1\").add_node(\"test2\").snapshot()\n",
    "hash1 = store_final.update_graph(simple, \"add_simple\")\n",
    "print(f\"Simple graph: {len(store_final.get_current_graph().nodes)} nodes\")\n",
    "print(f\"Nodes: {list(store_final.get_current_graph().nodes.keys())}\")\n",
    "\n",
    "# Test 2: Random graph\n",
    "random_graph = create_random_graph(3, 0.5)\n",
    "hash2 = store_final.update_graph(random_graph, \"add_random\")\n",
    "print(f\"Random graph: {len(store_final.get_current_graph().nodes)} nodes\")\n",
    "print(f\"Nodes: {list(store_final.get_current_graph().nodes.keys())}\")\n",
    "\n",
    "# Test 3: Add more nodes\n",
    "current = store_final.get_current_graph()\n",
    "modified = current.add_node(\"extra1\").add_node(\"extra2\", color=\"blue\")\n",
    "hash3 = store_final.update_graph(modified, \"add_extra\")\n",
    "print(f\"With extras: {len(store_final.get_current_graph().nodes)} nodes\")\n",
    "print(f\"All nodes: {list(store_final.get_current_graph().nodes.keys())}\")\n",
    "\n",
    "# Check all states work\n",
    "print(f\"\\nAll states: {list(store_final.states.keys())}\")\n",
    "for state_hash in store_final.states.keys():\n",
    "    reconstructed = store_final._reconstruct_graph_from_state(state_hash)\n",
    "    print(f\"State {state_hash}: {len(reconstructed.nodes)} nodes\")\n",
    "\n",
    "# Show storage stats\n",
    "print(f\"\\nStorage stats: {store_final.get_storage_stats()}\")"
   ]
  },
  {
   "cell_type": "code",
   "execution_count": null,
   "id": "dcd6f3ac",
   "metadata": {},
   "outputs": [
    {
     "name": "stdout",
     "output_type": "stream",
     "text": [
      "=== TESTING THE FIX ===\n",
      "Simple graph: 2 nodes\n",
      "Nodes: ['test1', 'test2']\n",
      "Random graph: 3 nodes\n",
      "Nodes: ['node_0', 'node_1', 'node_2']\n",
      "With extras: 5 nodes\n",
      "All nodes: ['node_0', 'node_1', 'node_2', 'extra1', 'extra2']\n",
      "\n",
      "All states: ['initial', '15a7b01ddea833cf', '012faf713354f3f1', '54c2265ec7e3c802']\n",
      "State initial: 0 nodes\n",
      "State 15a7b01ddea833cf: 2 nodes\n",
      "State 012faf713354f3f1: 5 nodes\n",
      "State 54c2265ec7e3c802: 5 nodes\n"
     ]
    }
   ],
   "source": []
  },
  {
   "cell_type": "code",
   "execution_count": null,
   "id": "64f3bfdd",
   "metadata": {},
   "outputs": [],
   "source": []
  }
 ],
 "metadata": {
  "kernelspec": {
   "display_name": "venv",
   "language": "python",
   "name": "python3"
  },
  "language_info": {
   "codemirror_mode": {
    "name": "ipython",
    "version": 3
   },
   "file_extension": ".py",
   "mimetype": "text/x-python",
   "name": "python",
   "nbconvert_exporter": "python",
   "pygments_lexer": "ipython3",
   "version": "3.9.6"
  }
 },
 "nbformat": 4,
 "nbformat_minor": 5
}

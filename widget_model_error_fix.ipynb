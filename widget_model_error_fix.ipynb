{
 "cells": [
  {
   "cell_type": "markdown",
   "id": "d2e654af",
   "metadata": {},
   "source": [
    "# Widget Model Error Diagnosis and Fix\n",
    "\n",
    "This notebook demonstrates how to diagnose and fix the \"widget model not found\" error that occurs when JupyterLab tries to restore widget outputs from a previous kernel session.\n",
    "\n",
    "## Problem Overview\n",
    "\n",
    "The error occurs when:\n",
    "1. You create a custom widget in a notebook\n",
    "2. The notebook saves the widget output\n",
    "3. Later, you open the notebook (possibly after kernel restart)\n",
    "4. JupyterLab tries to restore the widget view, but the model doesn't exist in the new kernel session\n",
    "5. Result: \"widget model not found\" error\n",
    "\n",
    "## Solution Steps\n",
    "\n",
    "This notebook walks through the diagnosis and multiple solution approaches."
   ]
  },
  {
   "cell_type": "markdown",
   "id": "7e583eea",
   "metadata": {},
   "source": [
    "## Step 1: Check Widget Manager Status\n",
    "\n",
    "First, let's verify that the ipywidgets manager is working correctly by creating a basic widget."
   ]
  },
  {
   "cell_type": "code",
   "execution_count": 4,
   "id": "446ca18e",
   "metadata": {},
   "outputs": [
    {
     "name": "stdout",
     "output_type": "stream",
     "text": [
      "✅ Widget manager is healthy if this slider renders:\n"
     ]
    },
    {
     "data": {
      "application/vnd.jupyter.widget-view+json": {
       "model_id": "9b0762bc8af740948010610071627ef9",
       "version_major": 2,
       "version_minor": 0
      },
      "text/plain": [
       "IntSlider(value=50, description='Test:')"
      ]
     },
     "execution_count": 4,
     "metadata": {},
     "output_type": "execute_result"
    }
   ],
   "source": [
    "# Test that the widget manager is working with standard ipywidgets\n",
    "import ipywidgets as W\n",
    "\n",
    "# This should render without any errors\n",
    "slider = W.IntSlider(value=50, min=0, max=100, description='Test:')\n",
    "print(\"✅ Widget manager is healthy if this slider renders:\")\n",
    "slider"
   ]
  },
  {
   "cell_type": "markdown",
   "id": "b9735e92",
   "metadata": {},
   "source": [
    "## Step 2: Test Fresh Widget Creation\n",
    "\n",
    "Now let's create a fresh GroggyGraphWidget. This should work without any \"model not found\" errors because we're creating a new model."
   ]
  },
  {
   "cell_type": "code",
   "execution_count": 5,
   "id": "ba990053",
   "metadata": {},
   "outputs": [
    {
     "name": "stdout",
     "output_type": "stream",
     "text": [
      "MODEL ID: 73da11cdf95e417998bda99e49372ba3\n",
      "✅ Widget should render below without 'model not found' error:\n"
     ]
    }
   ],
   "source": [
    "# Create a fresh GroggyGraphWidget\n",
    "from groggy.widgets.graph_widget import GroggyGraphWidget\n",
    "\n",
    "# Create the widget and show its model ID\n",
    "w = GroggyGraphWidget()\n",
    "print(\"MODEL ID:\", w.model_id)\n",
    "print(\"✅ Widget should render below without 'model not found' error:\")\n",
    "\n",
    "# Display the widget\n"
   ]
  },
  {
   "cell_type": "markdown",
   "id": "332cdad0",
   "metadata": {},
   "source": [
    "## Step 3: Verify Federated Extension\n",
    "\n",
    "Let's check that the federated plugin is working and exporting the correct constructors. Run this in the browser console:"
   ]
  },
  {
   "cell_type": "code",
   "execution_count": 5,
   "id": "aafcc25f",
   "metadata": {},
   "outputs": [
    {
     "name": "stdout",
     "output_type": "stream",
     "text": [
      "🔍 Browser Console Command:\n",
      "\n",
      "// Verify your federated plugin exported constructors\n",
      "require(['groggy-widgets'], m => console.log(\n",
      "  'types:', typeof m.GroggyGraphModel, typeof m.GroggyGraphView));\n",
      "// Expected output: \"types: function function\"\n",
      "\n"
     ]
    }
   ],
   "source": [
    "# Run this JavaScript code in the browser console to verify federated extension:\n",
    "js_code = \"\"\"\n",
    "// Verify your federated plugin exported constructors\n",
    "require(['groggy-widgets'], m => console.log(\n",
    "  'types:', typeof m.GroggyGraphModel, typeof m.GroggyGraphView));\n",
    "// Expected output: \"types: function function\"\n",
    "\"\"\"\n",
    "\n",
    "print(\"🔍 Browser Console Command:\")\n",
    "print(js_code)"
   ]
  },
  {
   "cell_type": "markdown",
   "id": "de2cfcf6",
   "metadata": {},
   "source": [
    "## Solutions for \"widget model not found\" Error\n",
    "\n",
    "If you encounter the \"widget model not found\" error, here are three solutions:"
   ]
  },
  {
   "cell_type": "markdown",
   "id": "afa36199",
   "metadata": {},
   "source": [
    "### Solution 1: Re-run Widget Creation Cells\n",
    "\n",
    "The simplest fix is to re-run the cells that create your widgets. This reopens the comm and re-registers the models:\n",
    "\n",
    "**Instructions:**\n",
    "1. Click on the cell above that creates `GroggyGraphWidget`\n",
    "2. Run the cell (Shift+Enter)\n",
    "3. The widget should now render without errors"
   ]
  },
  {
   "cell_type": "markdown",
   "id": "a8793c77",
   "metadata": {},
   "source": [
    "### Solution 2: Clear All Outputs\n",
    "\n",
    "Remove saved widget outputs so JupyterLab doesn't try to restore stale widget views:\n",
    "\n",
    "**Instructions:**\n",
    "1. Go to Edit → Clear All Outputs\n",
    "2. Save the notebook (Ctrl+S / Cmd+S)\n",
    "3. Reload the notebook page\n",
    "4. Re-run the cells"
   ]
  },
  {
   "cell_type": "markdown",
   "id": "9fcf8755",
   "metadata": {},
   "source": [
    "### Solution 3: Enable Widget State Saving\n",
    "\n",
    "Configure JupyterLab to automatically save and restore widget states:\n",
    "\n",
    "**Instructions:**\n",
    "1. Go to Settings → Advanced Settings Editor\n",
    "2. Select \"Jupyter Widgets\" \n",
    "3. Set `saveState: true` (and `saveWidgetState: true` if shown)\n",
    "4. Run the notebook once and save\n",
    "5. Next time you open, both state and views will be restored"
   ]
  },
  {
   "cell_type": "markdown",
   "id": "1474d0e3",
   "metadata": {},
   "source": [
    "## Expected Results\n",
    "\n",
    "After applying any of the solutions above:\n",
    "\n",
    "1. ✅ **ipywidgets.IntSlider()** should render normally\n",
    "2. ✅ **GroggyGraphWidget()** should create and display without errors  \n",
    "3. ✅ **Browser console** should show `\"types: function function\"` for the federated extension\n",
    "4. ✅ **No \"widget model not found\"** errors in the console\n",
    "5. ✅ **Model IDs** should be displayed correctly\n",
    "\n",
    "## Summary\n",
    "\n",
    "The \"widget model not found\" error is a timing issue where JupyterLab tries to restore widget views before the Python kernel has recreated the models. The solutions ensure that either:\n",
    "- Models are recreated (Solution 1)\n",
    "- No stale views exist to restore (Solution 2)  \n",
    "- Both models and views are properly saved/restored (Solution 3)"
   ]
  },
  {
   "cell_type": "markdown",
   "id": "a0bb1ec6",
   "metadata": {},
   "source": [
    "## Debug: Check Runtime Exports\n",
    "\n",
    "Run this in the browser console to verify what's actually being exported:"
   ]
  },
  {
   "cell_type": "code",
   "execution_count": 6,
   "id": "de5fa600",
   "metadata": {},
   "outputs": [
    {
     "name": "stdout",
     "output_type": "stream",
     "text": [
      "🔍 Browser Console Debug Command:\n",
      "\n",
      "require(['groggy-widgets'], m => {\n",
      "  console.log('exports keys:', Object.keys(m));\n",
      "  console.log('GroggyGraphModel type:', typeof m?.GroggyGraphModel);\n",
      "  console.log('GroggyGraphView  type:', typeof m?.GroggyGraphView);\n",
      "  console.log('Full module:', m);\n",
      "});\n",
      "\n",
      "\n",
      "✅ Expected: Both types should be 'function'\n",
      "❌ Problem: If you see 'undefined' or 'object', exports are broken\n"
     ]
    }
   ],
   "source": [
    "# Run this in the browser console to check exports:\n",
    "debug_js = \"\"\"\n",
    "require(['groggy-widgets'], m => {\n",
    "  console.log('exports keys:', Object.keys(m));\n",
    "  console.log('GroggyGraphModel type:', typeof m?.GroggyGraphModel);\n",
    "  console.log('GroggyGraphView  type:', typeof m?.GroggyGraphView);\n",
    "  console.log('Full module:', m);\n",
    "});\n",
    "\"\"\"\n",
    "\n",
    "print(\"🔍 Browser Console Debug Command:\")\n",
    "print(debug_js)\n",
    "print(\"\\n✅ Expected: Both types should be 'function'\")\n",
    "print(\"❌ Problem: If you see 'undefined' or 'object', exports are broken\")"
   ]
  },
  {
   "cell_type": "markdown",
   "id": "e7f8afb9",
   "metadata": {},
   "source": [
    "## Final Test: Constructor Fix\n",
    "\n",
    "After rebuilding the widget with clean exports, test that the constructor error is resolved:"
   ]
  },
  {
   "cell_type": "code",
   "execution_count": 7,
   "id": "473612dc",
   "metadata": {},
   "outputs": [
    {
     "name": "stdout",
     "output_type": "stream",
     "text": [
      "✅ ipywidgets working: <class 'ipywidgets.widgets.widget_int.IntSlider'>\n",
      "✅ Import successful\n",
      "✅ Widget created successfully!\n",
      "📋 Model ID: 8ab1df0a7068439292c90f2e5b3fffbc\n",
      "🎯 Now displaying widget - should render without 'f is not a constructor' error:\n"
     ]
    },
    {
     "data": {
      "application/vnd.jupyter.widget-view+json": {
       "model_id": "8ab1df0a7068439292c90f2e5b3fffbc",
       "version_major": 2,
       "version_minor": 0
      },
      "text/plain": [
       "GroggyGraphWidget(nodes=0, edges=0, layout=force-directed, theme=light)"
      ]
     },
     "metadata": {},
     "output_type": "display_data"
    },
    {
     "name": "stdout",
     "output_type": "stream",
     "text": [
      "\n",
      "🔍 Run this in browser console to verify exports:\n",
      "require(['groggy-widgets'], m => console.log('types:', typeof m.GroggyGraphModel, typeof m.GroggyGraphView))\n",
      "Expected: 'types: function function'\n"
     ]
    }
   ],
   "source": [
    "# RESTART JUPYTERLAB FIRST, then run this test\n",
    "\n",
    "# 1. Test that widget manager is healthy\n",
    "import ipywidgets as W\n",
    "test_slider = W.IntSlider(value=25, description='Test:')\n",
    "print(\"✅ ipywidgets working:\", type(test_slider))\n",
    "\n",
    "# 2. Test our widget creation  \n",
    "from groggy.widgets.graph_widget import GroggyGraphWidget\n",
    "print(\"✅ Import successful\")\n",
    "\n",
    "# 3. Create widget instance\n",
    "try:\n",
    "    widget = GroggyGraphWidget()\n",
    "    print(\"✅ Widget created successfully!\")\n",
    "    print(\"📋 Model ID:\", widget.model_id)\n",
    "    print(\"🎯 Now displaying widget - should render without 'f is not a constructor' error:\")\n",
    "    display(widget)\n",
    "except Exception as e:\n",
    "    print(\"❌ Error creating widget:\", e)\n",
    "\n",
    "# 4. Browser console check\n",
    "print(\"\\n🔍 Run this in browser console to verify exports:\")\n",
    "print(\"require(['groggy-widgets'], m => console.log('types:', typeof m.GroggyGraphModel, typeof m.GroggyGraphView))\")\n",
    "print(\"Expected: 'types: function function'\")"
   ]
  },
  {
   "cell_type": "markdown",
   "id": "8ebe9cb1",
   "metadata": {},
   "source": [
    "## Constructor Fix Applied\n",
    "\n",
    "The widget has been rebuilt with laser-focused fixes:\n",
    "\n",
    "1. ✅ **Clean named class exports** - No default exports, no object wrapping\n",
    "2. ✅ **Prototype chain verification** - Plugin logs prove inheritance \n",
    "3. ✅ **Singleton @jupyter-widgets/base** - Shared packages configured\n",
    "4. ✅ **Minimal render method** - Simple test to prove constructor works\n",
    "\n",
    "**Expected console logs in JupyterLab:**\n",
    "```\n",
    "[groggy-widgets] registering { GroggyGraphModel: ƒ, GroggyGraphView: ƒ }\n",
    "types: function function\n",
    "is Model subclass: true\n",
    "is View subclass: true\n",
    "✨ Groggy widget extension activated in JupyterLab\n",
    "```\n",
    "\n",
    "**RESTART JUPYTERLAB BEFORE TESTING** (quit completely, restart server)"
   ]
  },
  {
   "cell_type": "code",
   "execution_count": 8,
   "id": "4e8e397c",
   "metadata": {},
   "outputs": [
    {
     "name": "stdout",
     "output_type": "stream",
     "text": [
      "🔧 Testing constructor fix...\n",
      "✅ ipywidgets working\n",
      "✅ Import successful\n",
      "✅ Widget created successfully!\n",
      "📋 Model ID: 4125c1f755df4dbd9b829b63b45563e7\n",
      "🎯 Displaying widget - should show 'GroggyGraphView mounted' with green border:\n"
     ]
    },
    {
     "data": {
      "application/vnd.jupyter.widget-view+json": {
       "model_id": "4125c1f755df4dbd9b829b63b45563e7",
       "version_major": 2,
       "version_minor": 0
      },
      "text/plain": [
       "GroggyGraphWidget(nodes=0, edges=0, layout=force-directed, theme=light)"
      ]
     },
     "metadata": {},
     "output_type": "display_data"
    },
    {
     "name": "stdout",
     "output_type": "stream",
     "text": [
      "✅ SUCCESS: No 'f is not a constructor' error!\n",
      "\n",
      "📊 Check browser console for these logs:\n",
      "   - types: function function\n",
      "   - is Model subclass: true\n",
      "   - is View subclass: true\n"
     ]
    }
   ],
   "source": [
    "# CRITICAL: Restart JupyterLab completely before running this cell\n",
    "# (Close all tabs, stop server, restart)\n",
    "\n",
    "print(\"🔧 Testing constructor fix...\")\n",
    "\n",
    "# 1. Verify ipywidgets still works\n",
    "import ipywidgets as W\n",
    "slider = W.IntSlider(value=42, description='Control:')\n",
    "print(\"✅ ipywidgets working\")\n",
    "\n",
    "# 2. Import our widget \n",
    "from groggy.widgets.graph_widget import GroggyGraphWidget\n",
    "print(\"✅ Import successful\")\n",
    "\n",
    "# 3. Create widget - this should now work without constructor errors\n",
    "try:\n",
    "    widget = GroggyGraphWidget()\n",
    "    print(\"✅ Widget created successfully!\")\n",
    "    print(\"📋 Model ID:\", widget.model_id)\n",
    "    print(\"🎯 Displaying widget - should show 'GroggyGraphView mounted' with green border:\")\n",
    "    display(widget)\n",
    "    print(\"✅ SUCCESS: No 'f is not a constructor' error!\")\n",
    "except Exception as e:\n",
    "    print(\"❌ Error:\", str(e))\n",
    "    print(\"💡 Check browser console for detailed error logs\")\n",
    "\n",
    "print(\"\\n📊 Check browser console for these logs:\")\n",
    "print(\"   - types: function function\") \n",
    "print(\"   - is Model subclass: true\")\n",
    "print(\"   - is View subclass: true\")"
   ]
  },
  {
   "cell_type": "markdown",
   "id": "399eec8c",
   "metadata": {},
   "source": [
    "## Troubleshooting: Last-Resort Test\n",
    "\n",
    "If you still get \"f is not a constructor\", this proves whether it's a prototype chain issue or export shape issue:"
   ]
  },
  {
   "cell_type": "code",
   "execution_count": 9,
   "id": "d603fae6",
   "metadata": {},
   "outputs": [
    {
     "name": "stdout",
     "output_type": "stream",
     "text": [
      "🔬 Litmus Test Code:\n",
      "\n",
      "// Last-resort litmus test - replace the registry call in plugin.ts with:\n",
      "\n",
      "registry.registerWidget({\n",
      "  name: MODULE_NAME,\n",
      "  version: MODULE_VERSION,\n",
      "  exports: {\n",
      "    GroggyGraphModel,\n",
      "    GroggyGraphView: class TestView extends DOMWidgetView {\n",
      "      render() { \n",
      "        this.el.textContent = 'TestView mounted (plain)'; \n",
      "        this.el.style.cssText = 'border: 2px solid red; padding: 10px;';\n",
      "      }\n",
      "    }\n",
      "  }\n",
      "});\n",
      "\n",
      "// If TestView renders: your wiring is correct, original GroggyGraphView export is broken\n",
      "// If TestView fails: you have duplicate @jupyter-widgets/base (fix singleton config)\n",
      "\n"
     ]
    }
   ],
   "source": [
    "# This code shows how to temporarily test with a simple inline view\n",
    "# Copy this into src/plugin.ts if you need to isolate the issue:\n",
    "\n",
    "litmus_test_code = \"\"\"\n",
    "// Last-resort litmus test - replace the registry call in plugin.ts with:\n",
    "\n",
    "registry.registerWidget({\n",
    "  name: MODULE_NAME,\n",
    "  version: MODULE_VERSION,\n",
    "  exports: {\n",
    "    GroggyGraphModel,\n",
    "    GroggyGraphView: class TestView extends DOMWidgetView {\n",
    "      render() { \n",
    "        this.el.textContent = 'TestView mounted (plain)'; \n",
    "        this.el.style.cssText = 'border: 2px solid red; padding: 10px;';\n",
    "      }\n",
    "    }\n",
    "  }\n",
    "});\n",
    "\n",
    "// If TestView renders: your wiring is correct, original GroggyGraphView export is broken\n",
    "// If TestView fails: you have duplicate @jupyter-widgets/base (fix singleton config)\n",
    "\"\"\"\n",
    "\n",
    "print(\"🔬 Litmus Test Code:\")\n",
    "print(litmus_test_code)"
   ]
  },
  {
   "cell_type": "code",
   "execution_count": null,
   "id": "32809ea0-68da-44f9-a4d2-f7c22c5fcb0b",
   "metadata": {},
   "outputs": [],
   "source": []
  }
 ],
 "metadata": {
  "kernelspec": {
   "display_name": "Python 3 (ipykernel)",
   "language": "python",
   "name": "python3"
  },
  "language_info": {
   "codemirror_mode": {
    "name": "ipython",
    "version": 3
   },
   "file_extension": ".py",
   "mimetype": "text/x-python",
   "name": "python",
   "nbconvert_exporter": "python",
   "pygments_lexer": "ipython3",
   "version": "3.9.6"
  }
 },
 "nbformat": 4,
 "nbformat_minor": 5
}

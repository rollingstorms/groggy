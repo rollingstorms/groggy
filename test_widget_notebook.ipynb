{
 "cells": [
  {
   "cell_type": "markdown",
   "id": "2ac57e94",
   "metadata": {},
   "source": [
    "# Groggy Widget Test\n",
    "\n",
    "Testing the GroggyGraphWidget to ensure it works without the \"t is not a constructor\" error."
   ]
  },
  {
   "cell_type": "code",
   "execution_count": null,
   "id": "1e2bddff",
   "metadata": {},
   "outputs": [],
   "source": [
    "# Import groggy and the widget\n",
    "import groggy as gr\n",
    "from groggy.widgets.graph_widget import GroggyGraphWidget"
   ]
  },
  {
   "cell_type": "code",
   "execution_count": null,
   "id": "c5d81c40",
   "metadata": {},
   "outputs": [],
   "source": [
    "# Create a simple test widget\n",
    "widget = GroggyGraphWidget()\n",
    "print(f\"Widget created: {widget}\")\n",
    "print(f\"Model module: {widget._model_module}\")\n",
    "print(f\"View module: {widget._view_module}\")"
   ]
  },
  {
   "cell_type": "code",
   "execution_count": null,
   "id": "95bbc82d",
   "metadata": {},
   "outputs": [],
   "source": [
    "# Set up some demo data\n",
    "widget.nodes = [\n",
    "    {'id': 'A', 'label': 'Node A', 'color': '#ff6b6b', 'size': 10},\n",
    "    {'id': 'B', 'label': 'Node B', 'color': '#4ecdc4', 'size': 15}, \n",
    "    {'id': 'C', 'label': 'Node C', 'color': '#45b7d1', 'size': 12},\n",
    "    {'id': 'D', 'label': 'Node D', 'color': '#96ceb4', 'size': 8}\n",
    "]\n",
    "\n",
    "widget.edges = [\n",
    "    {'id': 'e1', 'source': 'A', 'target': 'B', 'weight': 1.0},\n",
    "    {'id': 'e2', 'source': 'B', 'target': 'C', 'weight': 2.0},\n",
    "    {'id': 'e3', 'source': 'C', 'target': 'D', 'weight': 1.5},\n",
    "    {'id': 'e4', 'source': 'A', 'target': 'D', 'weight': 0.8}\n",
    "]\n",
    "\n",
    "print(f\"Added {len(widget.nodes)} nodes and {len(widget.edges)} edges\")"
   ]
  },
  {
   "cell_type": "code",
   "execution_count": null,
   "id": "1412c0f9",
   "metadata": {},
   "outputs": [],
   "source": [
    "# Display the widget - this should work without the \"t is not a constructor\" error\n",
    "widget"
   ]
  },
  {
   "cell_type": "code",
   "execution_count": null,
   "id": "1f5d0e5b",
   "metadata": {},
   "outputs": [],
   "source": [
    "# Test callback functionality\n",
    "def on_node_clicked(node_id, node_data):\n",
    "    print(f\"Clicked node: {node_id}\")\n",
    "    print(f\"Node data: {node_data}\")\n",
    "\n",
    "widget.on_node_click(on_node_clicked)\n",
    "print(\"Click callback registered - try clicking on nodes in the widget above!\")"
   ]
  },
  {
   "cell_type": "code",
   "execution_count": null,
   "id": "20f1d515",
   "metadata": {},
   "outputs": [],
   "source": [
    "# Test programmatic control\n",
    "widget.set_theme('dark')\n",
    "print(\"Theme changed to dark\")"
   ]
  },
  {
   "cell_type": "code",
   "execution_count": null,
   "id": "d49b7610",
   "metadata": {},
   "outputs": [],
   "source": [
    "# Test layout change\n",
    "widget.set_layout('circular', animate=True)\n",
    "print(\"Layout changed to circular with animation\")"
   ]
  }
 ],
 "metadata": {
  "language_info": {
   "name": "python"
  }
 },
 "nbformat": 4,
 "nbformat_minor": 5
}
